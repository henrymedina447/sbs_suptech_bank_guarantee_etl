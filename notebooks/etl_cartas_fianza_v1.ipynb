{
 "cells": [
  {
   "metadata": {},
   "cell_type": "markdown",
   "source": "# Cargamos las variables de entorno",
   "id": "e3245200ac224031"
  },
  {
   "metadata": {
    "ExecuteTime": {
     "end_time": "2025-10-02T11:44:55.974629Z",
     "start_time": "2025-10-02T11:44:48.665293Z"
    }
   },
   "cell_type": "code",
   "source": [
    "from dotenv import  load_dotenv\n",
    "from pandas.core.interchange.dataframe_protocol import DataFrame\n",
    "from unstructured_client.models.shared import JobStatus\n",
    "\n",
    "from infrastructure.config.app_settings import get_app_settings\n",
    "\n",
    "load_dotenv()\n",
    "app_settings=get_app_settings()"
   ],
   "id": "f90f59a7dfea3e9f",
   "outputs": [],
   "execution_count": 1
  },
  {
   "metadata": {},
   "cell_type": "markdown",
   "source": "# Obtenemos los datos desde el bucket",
   "id": "84ba64023add7506"
  },
  {
   "metadata": {
    "ExecuteTime": {
     "end_time": "2025-10-02T11:45:08.240810Z",
     "start_time": "2025-10-02T11:45:07.126524Z"
    }
   },
   "cell_type": "code",
   "source": [
    "import boto3\n",
    "from mypy_boto3_s3.client import S3Client\n",
    "import os\n",
    "# prefix\n",
    "prefix:str=\"cartas_fmv/\"\n",
    "s3_client:S3Client=boto3.client('s3', app_settings.aws_settings.region)"
   ],
   "id": "34df738a57a3dc68",
   "outputs": [],
   "execution_count": 2
  },
  {
   "metadata": {
    "ExecuteTime": {
     "end_time": "2025-10-02T11:45:10.100070Z",
     "start_time": "2025-10-02T11:45:10.079096Z"
    }
   },
   "cell_type": "code",
   "source": [
    "def get_files(bucket_name:str,prefix_path:str,document_type:str=\"pdf\", position:int | None=None)->list[str]:\n",
    "    paginator = s3_client.get_paginator('list_objects_v2')\n",
    "    results:list[str]=[]\n",
    "    for page in paginator.paginate(Bucket=bucket_name, Prefix=prefix_path):\n",
    "        for obj in page.get(\"Contents\", []):\n",
    "            key=obj[\"Key\"]\n",
    "            if key.endswith(\"/\"):\n",
    "                continue\n",
    "            if not key.lower().endswith(f\".{document_type.lower()}\"):\n",
    "                continue\n",
    "            results.append(key)\n",
    "    if position is None:\n",
    "        return results\n",
    "    return [results[position]]"
   ],
   "id": "432d85e6906646a7",
   "outputs": [],
   "execution_count": 3
  },
  {
   "metadata": {
    "ExecuteTime": {
     "end_time": "2025-10-02T11:45:12.930284Z",
     "start_time": "2025-10-02T11:45:12.053112Z"
    }
   },
   "cell_type": "code",
   "source": [
    "documents:list[str]=get_files(bucket_name=app_settings.s3_settings.bucket,prefix_path=prefix,document_type=\"pdf\")\n",
    "print(\"documents:\",documents)"
   ],
   "id": "1cd51b3dd3c8d937",
   "outputs": [
    {
     "name": "stdout",
     "output_type": "stream",
     "text": [
      "documents: ['cartas_fmv/107002101017693540_1.pdf', 'cartas_fmv/107125101001461297.pdf', 'cartas_fmv/107134101000916831_1.pdf', 'cartas_fmv/107147101000648625_1.pdf', 'cartas_fmv/107147101000838713_1.pdf', 'cartas_fmv/107147101000838713_2.pdf', 'cartas_fmv/107147101000841781_1.pdf', 'cartas_fmv/107147101000851803_1.pdf', 'cartas_fmv/107147101000851803_2.pdf', 'cartas_fmv/107147101000858331_1.pdf']\n"
     ]
    }
   ],
   "execution_count": 4
  },
  {
   "metadata": {},
   "cell_type": "markdown",
   "source": "# Implementación de Textract",
   "id": "d72fa7597987a616"
  },
  {
   "metadata": {
    "ExecuteTime": {
     "end_time": "2025-10-02T11:45:16.354684Z",
     "start_time": "2025-10-02T11:45:16.140337Z"
    }
   },
   "cell_type": "code",
   "source": [
    "from mypy_boto3_textract.client import TextractClient\n",
    "\n",
    "textract:TextractClient = boto3.client(\"textract\", region_name=app_settings.aws_settings.region)"
   ],
   "id": "4dd3b115629e1967",
   "outputs": [],
   "execution_count": 5
  },
  {
   "metadata": {
    "ExecuteTime": {
     "end_time": "2025-10-02T11:45:17.906738Z",
     "start_time": "2025-10-02T11:45:17.903262Z"
    }
   },
   "cell_type": "code",
   "source": [
    "from mypy_boto3_textract.type_defs import StartDocumentAnalysisResponseTypeDef, BoundingBoxTypeDef\n",
    "\n",
    "\n",
    "def start_analysis(file_key:str)->str | None:\n",
    "    try:\n",
    "        result:StartDocumentAnalysisResponseTypeDef=textract.start_document_analysis(\n",
    "            DocumentLocation={\n",
    "                \"S3Object\": {\n",
    "                    \"Bucket\": app_settings.s3_settings.bucket,\n",
    "                    \"Name\": file_key\n",
    "                },\n",
    "\n",
    "            },\n",
    "            QueriesConfig={\n",
    "                \"Queries\":[\n",
    "                    {\n",
    "                        \"Text\":\"Who is the promotor?\",\n",
    "                        \"Alias\":\"Promotor\",\n",
    "                        \"Pages\":[\n",
    "                            \"1\"\n",
    "                        ]\n",
    "                    }\n",
    "                ]\n",
    "            },\n",
    "            FeatureTypes=[\"TABLES\",\"QUERIES\"]\n",
    "        )\n",
    "        return result.get(\"JobId\",None)\n",
    "    except Exception as e:\n",
    "        print(e)\n",
    "        return None"
   ],
   "id": "e916738465fdc466",
   "outputs": [],
   "execution_count": 6
  },
  {
   "metadata": {
    "ExecuteTime": {
     "end_time": "2025-10-02T11:45:20.070370Z",
     "start_time": "2025-10-02T11:45:20.066817Z"
    }
   },
   "cell_type": "code",
   "source": [
    "from mypy_boto3_textract.literals import JobStatusType\n",
    "from mypy_boto3_textract.type_defs import  GetDocumentAnalysisResponseTypeDef\n",
    "import time\n",
    "\n",
    "def get_analysis_result(job_id:str)->list[GetDocumentAnalysisResponseTypeDef]:\n",
    "    time.sleep(1)\n",
    "    response:GetDocumentAnalysisResponseTypeDef = textract.get_document_analysis(JobId=job_id)\n",
    "    status: JobStatusType = response.get(\"JobStatus\",None)\n",
    "    print(f\"Job status: {status}\")\n",
    "    while status==\"IN_PROGRESS\":\n",
    "        time.sleep(5)\n",
    "        response=textract.get_document_analysis(JobId=job_id)\n",
    "        status: JobStatusType = response.get(\"JobStatus\",None)\n",
    "        print(f\"Job status: {status}\")\n",
    "    all_responses=[response]\n",
    "    while True:\n",
    "        # En caso se tengan muchas paginas se realiza una paginación\n",
    "        if \"NextToken\" not in all_responses[-1]:\n",
    "            break\n",
    "        all_responses.append(textract.get_document_analysis(JobId=job_id, NextToken=all_responses[-1][\"NextToken\"]))\n",
    "    return all_responses"
   ],
   "id": "3d3f755ee52fe7b3",
   "outputs": [],
   "execution_count": 7
  },
  {
   "metadata": {},
   "cell_type": "markdown",
   "source": "## Agrupar por páginas",
   "id": "8d5bd60b003f65ce"
  },
  {
   "metadata": {
    "ExecuteTime": {
     "end_time": "2025-10-02T11:45:22.106878Z",
     "start_time": "2025-10-02T11:45:22.103803Z"
    }
   },
   "cell_type": "code",
   "source": [
    "from mypy_boto3_textract.type_defs import BlockTypeDef\n",
    "\n",
    "\n",
    "def _group_by_page(\n",
    "            response: list[GetDocumentAnalysisResponseTypeDef],\n",
    "    ) -> tuple[list[BlockTypeDef], list[BlockTypeDef]]:\n",
    "    \"\"\"\n",
    "    Agrupa los blocks por página y retorna (pages, blocks).\n",
    "    \"\"\"\n",
    "    blocks: list[BlockTypeDef] = [b for r in response for b in r.get(\"Blocks\", [])]\n",
    "    pages: list[BlockTypeDef] = [p for p in blocks if p.get(\"BlockType\") == \"PAGE\"]\n",
    "    return pages, blocks"
   ],
   "id": "c90c14bbd97a6888",
   "outputs": [],
   "execution_count": 8
  },
  {
   "metadata": {},
   "cell_type": "markdown",
   "source": "## Obtener metadata del promotor y fecha",
   "id": "265024d9e477b887"
  },
  {
   "metadata": {},
   "cell_type": "markdown",
   "source": "### Obtener la metadata de la fecha encima de la palabra carta",
   "id": "1d81046a57254ff7"
  },
  {
   "metadata": {
    "ExecuteTime": {
     "end_time": "2025-10-02T11:45:25.311170Z",
     "start_time": "2025-10-02T11:45:25.308360Z"
    }
   },
   "cell_type": "code",
   "source": [
    "def get_letter_block(results:list[BlockTypeDef])-> BlockTypeDef | None:\n",
    "    # Encontramos las coordenadas de las páginas\n",
    "    element: BlockTypeDef | None=next((e for e in results if e[\"BlockType\"]==\"LINE\" and \"carta n°\" in e.get(\"Text\",\"\").lower()), None)\n",
    "    return element\n"
   ],
   "id": "b00ed9d2a9a884d7",
   "outputs": [],
   "execution_count": 9
  },
  {
   "metadata": {},
   "cell_type": "markdown",
   "source": "#### Evalúamos si se cumple condición del bounding box",
   "id": "6fbc6d094065a718"
  },
  {
   "metadata": {
    "ExecuteTime": {
     "end_time": "2025-10-02T14:06:28.902136Z",
     "start_time": "2025-10-02T14:06:28.899162Z"
    }
   },
   "cell_type": "code",
   "source": [
    "def check_condition(top:float,left:float, width:float, r:BlockTypeDef)->bool:\n",
    "    if r[\"BlockType\"]==\"PAGE\" or r[\"BlockType\"]==\"QUERY\":\n",
    "        return False\n",
    "    if r[\"BlockType\"]!=\"LINE\":\n",
    "        return False\n",
    "    bounding_box = r[\"Geometry\"][\"BoundingBox\"]\n",
    "    condition_1:bool=bounding_box[\"Top\"]<top\n",
    "    condition_2:bool=bounding_box[\"Left\"]<left+width\n",
    "    return condition_1 and condition_2"
   ],
   "id": "40934ba76eae6a68",
   "outputs": [],
   "execution_count": 46
  },
  {
   "metadata": {},
   "cell_type": "markdown",
   "source": "### Obtener todos los que esten por encima",
   "id": "635ff0b62b206b7"
  },
  {
   "metadata": {
    "ExecuteTime": {
     "end_time": "2025-10-02T12:04:44.284299Z",
     "start_time": "2025-10-02T12:04:44.280774Z"
    }
   },
   "cell_type": "code",
   "source": [
    "def get_all_blocks_by_letter_position(letter_block:BlockTypeDef,results:list[BlockTypeDef])-> list[BlockTypeDef]:\n",
    "    letter_bounding_box:BoundingBoxTypeDef | None= letter_block.get(\"Geometry\",{}).get(\"BoundingBox\",None)\n",
    "    if letter_bounding_box is None:\n",
    "        return []\n",
    "    letter_bounding_box_top=letter_bounding_box[\"Top\"]\n",
    "    letter_bounding_box_left=letter_bounding_box[\"Left\"]\n",
    "    letter_bounding_box_width=letter_bounding_box[\"Width\"]\n",
    "    rx: list[BlockTypeDef]= [r for r in results if check_condition(letter_bounding_box_top,letter_bounding_box_left,letter_bounding_box_width,r) and r[\"BlockType\"]!=\"PAGE\"]\n",
    "    return rx"
   ],
   "id": "41cbce1329561203",
   "outputs": [],
   "execution_count": 39
  },
  {
   "metadata": {},
   "cell_type": "markdown",
   "source": "### Obtener la fecha sabiendo la posición de la carta",
   "id": "287df37067c2ab5f"
  },
  {
   "metadata": {
    "ExecuteTime": {
     "end_time": "2025-10-02T14:13:48.774493Z",
     "start_time": "2025-10-02T14:13:48.770855Z"
    }
   },
   "cell_type": "code",
   "source": [
    "def get_date_by_letter_position(letter_block:BlockTypeDef,results:list[BlockTypeDef])-> BlockTypeDef | None:\n",
    "    letter_bounding_box:BoundingBoxTypeDef | None= letter_block.get(\"Geometry\",{}).get(\"BoundingBox\",None)\n",
    "    if letter_bounding_box is None:\n",
    "        return None\n",
    "    letter_bounding_box_top=letter_bounding_box[\"Top\"]\n",
    "    letter_bounding_box_left=letter_bounding_box[\"Left\"]\n",
    "    letter_bounding_box_width=letter_bounding_box[\"Width\"]\n",
    "    all_blocks_candidate=get_all_blocks_by_letter_position(letter_block,results)\n",
    "    #print(all_blocks_candidate[-1])\n",
    "    rx: BlockTypeDef | None=next((r for r in reversed(all_blocks_candidate) if check_condition(letter_bounding_box_top,letter_bounding_box_left,letter_bounding_box_width,r) and r[\"BlockType\"]!=\"PAGE\") , None)\n",
    "    return rx"
   ],
   "id": "2ae87c10de3f9b7d",
   "outputs": [],
   "execution_count": 55
  },
  {
   "metadata": {},
   "cell_type": "markdown",
   "source": "#### Obtener el promoter desde la query",
   "id": "c0bcab99b70ae0e5"
  },
  {
   "metadata": {
    "ExecuteTime": {
     "end_time": "2025-10-02T11:45:31.001484Z",
     "start_time": "2025-10-02T11:45:30.998615Z"
    }
   },
   "cell_type": "code",
   "source": [
    "def get_promotor_by_query_result(results:list[BlockTypeDef])-> BlockTypeDef | None:\n",
    "    promotor_block:BlockTypeDef | None=next((p for p in results if p[\"BlockType\"]==\"QUERY_RESULT\"), None)\n",
    "    return promotor_block\n"
   ],
   "id": "db4243cec87de2a8",
   "outputs": [],
   "execution_count": 12
  },
  {
   "metadata": {},
   "cell_type": "markdown",
   "source": "#### Obtener el texto del promotor y la fecha",
   "id": "6c5e313406529811"
  },
  {
   "metadata": {
    "ExecuteTime": {
     "end_time": "2025-10-02T11:45:32.827679Z",
     "start_time": "2025-10-02T11:45:32.824861Z"
    }
   },
   "cell_type": "code",
   "source": [
    "def get_text_for_promotor_and_date(promotor_block: BlockTypeDef | None, start_date_block:BlockTypeDef | None)->tuple[str | None,str| None]:\n",
    "    \"\"\"\n",
    "    Retorna una tupla de promotor y fecha\n",
    "    :param promotor_block:\n",
    "    :param start_date_block:\n",
    "    :return:\n",
    "    \"\"\"\n",
    "    promotor_text:str | None=None\n",
    "    start_date_text:str | None=None\n",
    "    if promotor_block is not None:\n",
    "        promotor_text=promotor_block[\"Text\"]\n",
    "    if start_date_block is not None:\n",
    "        start_date_text=start_date_block[\"Text\"]\n",
    "\n",
    "    return promotor_text,start_date_text\n"
   ],
   "id": "a296df42b84b8735",
   "outputs": [],
   "execution_count": 13
  },
  {
   "metadata": {},
   "cell_type": "markdown",
   "source": "## Obtener la metadata de la tabla principal",
   "id": "e74276ed7c5b874e"
  },
  {
   "metadata": {
    "ExecuteTime": {
     "end_time": "2025-10-02T11:45:35.515942Z",
     "start_time": "2025-10-02T11:45:35.513243Z"
    }
   },
   "cell_type": "code",
   "source": [
    "from typing import Any, Dict, List, Tuple, Optional\n",
    "\n",
    "def index_blocks_by_id(blocks: List[BlockTypeDef]) -> Dict[str, BlockTypeDef]:\n",
    "    return {b[\"Id\"]: b for b in blocks}"
   ],
   "id": "552e87d490cb0bc3",
   "outputs": [],
   "execution_count": 14
  },
  {
   "metadata": {
    "ExecuteTime": {
     "end_time": "2025-10-02T11:45:37.547882Z",
     "start_time": "2025-10-02T11:45:37.544482Z"
    }
   },
   "cell_type": "code",
   "source": [
    "from typing import Any, Dict, List, Tuple, Optional\n",
    "\n",
    "\n",
    "def get_children_ids(block: BlockTypeDef, types: Tuple[str, ...],block_by_id:Dict[str,BlockTypeDef]) -> List[str]:\n",
    "    ids: List[str] = []\n",
    "    for rel in block.get(\"Relationships\", []) or []:\n",
    "        if rel.get(\"Type\") == \"CHILD\":\n",
    "            ids.extend([rid for rid in rel.get(\"Ids\", []) or []])\n",
    "    # Filtra por tipos deseados\n",
    "    return [rid for rid in ids if block_by_id.get(rid, {}).get(\"BlockType\") in types]"
   ],
   "id": "d22648fd423c3cb9",
   "outputs": [],
   "execution_count": 15
  },
  {
   "metadata": {
    "ExecuteTime": {
     "end_time": "2025-10-02T11:45:39.898027Z",
     "start_time": "2025-10-02T11:45:39.866740Z"
    }
   },
   "cell_type": "code",
   "source": [
    "from typing import Any, Dict, List, Tuple, Optional\n",
    "\n",
    "\n",
    "def extract_cell_text(cell_block: Dict[str, Any],\n",
    "                      block_by_id: Dict[str, BlockTypeDef],\n",
    "                      checkbox_checked: str = \"☑\",\n",
    "                      checkbox_unchecked: str = \"☐\") -> str:\n",
    "    # Hijos WORD y SELECTION_ELEMENT\n",
    "    text_parts: List[str] = []\n",
    "    for rel in cell_block.get(\"Relationships\", []) or []:\n",
    "        if rel.get(\"Type\") != \"CHILD\":\n",
    "            continue\n",
    "        for rid in rel.get(\"Ids\", []) or []:\n",
    "            child = block_by_id.get(rid)\n",
    "            if not child:\n",
    "                continue\n",
    "            bt = child.get(\"BlockType\")\n",
    "            if bt == \"WORD\":\n",
    "                txt = child.get(\"Text\", \"\")\n",
    "                if txt:\n",
    "                    text_parts.append(txt)\n",
    "            elif bt == \"SELECTION_ELEMENT\":\n",
    "                state = child.get(\"SelectionStatus\")\n",
    "                text_parts.append(checkbox_checked if state == \"SELECTED\" else checkbox_unchecked)\n",
    "    return \" \".join(text_parts).strip()"
   ],
   "id": "15dd1b4961928fc5",
   "outputs": [],
   "execution_count": 16
  },
  {
   "metadata": {
    "ExecuteTime": {
     "end_time": "2025-10-02T11:45:42.279954Z",
     "start_time": "2025-10-02T11:45:42.273690Z"
    }
   },
   "cell_type": "code",
   "source": [
    "from typing import Any, Dict, List, Tuple, Optional\n",
    "\n",
    "def build_tables_from_textract(blocks: List[BlockTypeDef],\n",
    "                               broadcast_spans: bool = False\n",
    "                               ) -> List[Dict[str, Any]]:\n",
    "    \"\"\"\n",
    "    Retorna una lista de tablas. Cada item:\n",
    "    {\n",
    "      \"page\": int,\n",
    "      \"table_block\": <BLOCK TABLE>,\n",
    "      \"grid\": List[List[str]]  # matriz de texto\n",
    "    }\n",
    "    \"\"\"\n",
    "    #global block_by_id\n",
    "    block_by_id = index_blocks_by_id(blocks)\n",
    "\n",
    "    # Agrupa TABLEs por página\n",
    "    tables: List[BlockTypeDef] = [b for b in blocks if b.get(\"BlockType\") == \"TABLE\"]\n",
    "    result: List[Dict[str, Any]] = []\n",
    "\n",
    "    for table in tables:\n",
    "        page = table.get(\"Page\", 1)\n",
    "        # Recolecta CELLS hijos de la TABLE\n",
    "        cell_ids:list[str] = get_children_ids(table, types=(\"CELL\",), block_by_id=block_by_id)\n",
    "        cell_blocks:list[BlockTypeDef] = [block_by_id[cid] for cid in cell_ids if cid in block_by_id]\n",
    "\n",
    "        # Determina tamaño de la malla\n",
    "        max_row = 0\n",
    "        max_col = 0\n",
    "        for c in cell_blocks:\n",
    "            r = c.get(\"RowIndex\", 1)\n",
    "            cidx = c.get(\"ColumnIndex\", 1)\n",
    "            rsp = c.get(\"RowSpan\", 1)\n",
    "            csp = c.get(\"ColumnSpan\", 1)\n",
    "            max_row = max(max_row, r + rsp - 1)\n",
    "            max_col = max(max_col, cidx + csp - 1)\n",
    "\n",
    "        # Inicializa grid\n",
    "        grid: List[List[Optional[str]]] = [[None for _ in range(max_col)] for _ in range(max_row)]\n",
    "\n",
    "        # Coloca contenido\n",
    "        for c in cell_blocks:\n",
    "            r = c.get(\"RowIndex\", 1) - 1\n",
    "            cidx = c.get(\"ColumnIndex\", 1) - 1\n",
    "            rsp = c.get(\"RowSpan\", 1)\n",
    "            csp = c.get(\"ColumnSpan\", 1)\n",
    "            text = extract_cell_text(c, block_by_id)\n",
    "\n",
    "            if rsp == 1 and csp == 1:\n",
    "                # Simple\n",
    "                grid[r][cidx] = text\n",
    "            else:\n",
    "                # Spans\n",
    "                if broadcast_spans:\n",
    "                    for rr in range(r, r + rsp):\n",
    "                        for cc in range(cidx, cidx + csp):\n",
    "                            grid[rr][cc] = text\n",
    "                else:\n",
    "                    # Solo en la esquina superior izquierda\n",
    "                    grid[r][cidx] = text\n",
    "                    # El resto queda como None para que sepas que era merged\n",
    "                    # (puedes luego normalizar a \"\" si exportas a CSV)\n",
    "                    pass\n",
    "\n",
    "        # Normaliza None -> \"\"\n",
    "        grid = [[cell if cell is not None else \"\" for cell in row] for row in grid]\n",
    "\n",
    "        result.append({\n",
    "            \"page\": page,\n",
    "            \"table_block\": table,\n",
    "            \"grid\": grid\n",
    "        })\n",
    "\n",
    "    return result\n"
   ],
   "id": "9a0b17f73da7a106",
   "outputs": [],
   "execution_count": 17
  },
  {
   "metadata": {},
   "cell_type": "markdown",
   "source": "### Filtramos las tablas que contengan la palabra ADENDA ACTUAL",
   "id": "6b724421300f1220"
  },
  {
   "metadata": {
    "ExecuteTime": {
     "end_time": "2025-10-02T11:45:47.174921Z",
     "start_time": "2025-10-02T11:45:47.171655Z"
    }
   },
   "cell_type": "code",
   "source": [
    "def contains_keyword_in_table(table_block, block_by_id) -> bool:\n",
    "    for rel in table_block.get(\"Relationships\", []):\n",
    "        if rel.get(\"Type\") == \"CHILD\":\n",
    "            for cid in rel.get(\"Ids\", []):\n",
    "                cell = block_by_id.get(cid)\n",
    "                if cell and cell.get(\"BlockType\") == \"CELL\":\n",
    "                    # Extrae texto de la celda\n",
    "                    cell_text = extract_cell_text(cell, block_by_id)\n",
    "                    #print(\"cell_text\", cell_text)\n",
    "                    if \"ADENDA ACTUAL\".lower() in cell_text.lower() or \"DESEMBOLSADOS\".lower() in cell_text.lower():\n",
    "                        return True\n",
    "    return False"
   ],
   "id": "12e8a1df6a0bc024",
   "outputs": [],
   "execution_count": 18
  },
  {
   "metadata": {},
   "cell_type": "markdown",
   "source": "### Operación de obtener la tabla de adenda",
   "id": "370b8b343a621359"
  },
  {
   "metadata": {
    "ExecuteTime": {
     "end_time": "2025-10-02T11:45:49.962705Z",
     "start_time": "2025-10-02T11:45:49.959870Z"
    }
   },
   "cell_type": "code",
   "source": [
    "def get_table_with_adenda(tables,blocks:list[BlockTypeDef]):\n",
    "    filtered = []\n",
    "    block_by_id = index_blocks_by_id(blocks)\n",
    "    for t in tables:\n",
    "        if contains_keyword_in_table(t[\"table_block\"], block_by_id):\n",
    "            filtered.append(t)\n",
    "    return filtered"
   ],
   "id": "1db9a0d029c8af08",
   "outputs": [],
   "execution_count": 19
  },
  {
   "metadata": {},
   "cell_type": "markdown",
   "source": "### Reconstrucción en pandas",
   "id": "1d722de8677a3347"
  },
  {
   "metadata": {
    "ExecuteTime": {
     "end_time": "2025-10-02T11:45:52.598477Z",
     "start_time": "2025-10-02T11:45:52.595223Z"
    }
   },
   "cell_type": "code",
   "source": [
    "import pandas as pd\n",
    "from IPython.display import display\n",
    "def rebuild_in_pandas(tables, start=1):\n",
    "    for i, t in enumerate(tables, start=start):\n",
    "        df=pd.DataFrame(t[\"grid\"])\n",
    "        display(df.style.set_caption(f\"Tabla {i} - Página {t['page']}\"))"
   ],
   "id": "56dc23094551dba8",
   "outputs": [],
   "execution_count": 20
  },
  {
   "metadata": {},
   "cell_type": "markdown",
   "source": "### Depuración del dataframe",
   "id": "7c1335d7f7adad3d"
  },
  {
   "metadata": {
    "ExecuteTime": {
     "end_time": "2025-10-02T16:55:56.366757Z",
     "start_time": "2025-10-02T16:55:56.363049Z"
    }
   },
   "cell_type": "code",
   "source": [
    "import pandas as pd\n",
    "from pandas import DataFrame\n",
    "\n",
    "def clean_df(df: DataFrame) -> DataFrame:\n",
    "    # 1) eliminar \"N°\" si existe (REASIGNANDO)\n",
    "    df = df.drop(columns=[\"N°\"], errors=\"ignore\")\n",
    "\n",
    "    # 2) columnas de interés\n",
    "    keywords = [\"monto\", \"importe\"]\n",
    "    cols = [c for c in df.columns if any(k in c.lower() for k in keywords)]\n",
    "    sub = df.loc[:, cols].copy()\n",
    "\n",
    "    # 3) normalizar strings por columna (iteración por posición, no por nombre)\n",
    "    sub = sub.apply(lambda s: s.astype(str).str.strip() if s.dtype == \"object\" else s)\n",
    "\n",
    "    # 4) quitar columnas duplicadas por CONTENIDO (deja solo una por cada serie idéntica)\n",
    "    sub = sub.T.drop_duplicates().T\n",
    "\n",
    "    return sub\n"
   ],
   "id": "52b5a7a28d92da6c",
   "outputs": [],
   "execution_count": 81
  },
  {
   "metadata": {},
   "cell_type": "markdown",
   "source": "### Transformación del dataframe",
   "id": "79ea173bf3a10643"
  },
  {
   "metadata": {
    "ExecuteTime": {
     "end_time": "2025-10-02T17:24:01.045442Z",
     "start_time": "2025-10-02T17:24:01.042159Z"
    }
   },
   "cell_type": "code",
   "source": [
    "def transform_df(df:DataFrame) -> DataFrame:\n",
    "    if df.shape[1]>3:\n",
    "        raise ValueError(f\"Se esperaban 3 columnas, pero se encontraron {df.shape[1]}: {list(df.columns)}\")\n",
    "    if df.shape[1]==3:\n",
    "        df.columns=[\"disbursed_amount\",\"reduced_amount\",\"amount\"]\n",
    "    return df"
   ],
   "id": "6e4921d44cb1b322",
   "outputs": [],
   "execution_count": 83
  },
  {
   "metadata": {},
   "cell_type": "markdown",
   "source": "### Limpieza de los elementos para convertirlos en números",
   "id": "8e57e559b556e082"
  },
  {
   "metadata": {
    "ExecuteTime": {
     "end_time": "2025-10-02T17:35:43.146304Z",
     "start_time": "2025-10-02T17:35:43.140980Z"
    }
   },
   "cell_type": "code",
   "source": [
    "import re\n",
    "import pandas as pd\n",
    "\n",
    "def _to_float_from_str(x: str) -> float | None:\n",
    "    if pd.isna(x):\n",
    "        return None\n",
    "    s = str(x).strip()\n",
    "\n",
    "    # quitar prefijos comunes: S/, S/., S, SI, etc.\n",
    "    s = re.sub(r\"^(S\\/\\.?|SI|S)\\s*\", \"\", s, flags=re.IGNORECASE)\n",
    "\n",
    "    # detectar negativo por paréntesis\n",
    "    neg = s.startswith(\"(\") and s.endswith(\")\")\n",
    "    if neg:\n",
    "        s = s[1:-1]\n",
    "\n",
    "    # quitar todo lo que no sea dígito, coma, punto o signo\n",
    "    s = re.sub(r\"[^0-9,.\\-]\", \"\", s)\n",
    "\n",
    "    if not re.search(r\"\\d\", s):\n",
    "        return None\n",
    "\n",
    "    # lógica separadores\n",
    "    if \",\" in s and \".\" in s:\n",
    "        if s.rfind(\".\") > s.rfind(\",\"):  # 1,234.56 → '.' decimal\n",
    "            s = s.replace(\",\", \"\")\n",
    "        else:  # 1.234,56 → ',' decimal\n",
    "            s = s.replace(\".\", \"\").replace(\",\", \".\")\n",
    "    elif \",\" in s:\n",
    "        parts = s.split(\",\")\n",
    "        if len(parts) == 2 and len(parts[1]) in (1, 2):\n",
    "            s = s.replace(\",\", \".\")  # decimal\n",
    "        else:\n",
    "            s = s.replace(\",\", \"\")   # miles\n",
    "    # else: solo '.', Python ya lo entiende como decimal\n",
    "\n",
    "    try:\n",
    "        val = float(s)\n",
    "        return -val if neg else val\n",
    "    except ValueError:\n",
    "        return None\n",
    "\n",
    "def clean_currency_columns(df: pd.DataFrame, cols: list[str]) -> pd.DataFrame:\n",
    "    out = df.copy()\n",
    "    for c in cols:\n",
    "        if c in out.columns:\n",
    "            out[c] = out[c].apply(_to_float_from_str)\n",
    "    return out\n"
   ],
   "id": "90a9ba3ab3837bc1",
   "outputs": [],
   "execution_count": 87
  },
  {
   "metadata": {},
   "cell_type": "markdown",
   "source": "### Helper de pandas para detectarlo como tabla",
   "id": "8c32b3dc683d64ca"
  },
  {
   "metadata": {
    "ExecuteTime": {
     "end_time": "2025-10-02T16:33:55.501632Z",
     "start_time": "2025-10-02T16:33:55.497371Z"
    }
   },
   "cell_type": "code",
   "source": [
    "import pandas as pd\n",
    "from typing import List\n",
    "\n",
    "\n",
    "def df_from_grid_with_two_header_rows(\n",
    "   table:dict[str, Any],    # usado en \"concat\"\n",
    ") -> pd.DataFrame:\n",
    "    grid: List[List[str]] = table.get(\"grid\", [])\n",
    "    assert len(grid) >= 2, \"Se necesitan al menos 2 filas (header y datos)\"\n",
    "    # Segunda fila como encabezado\n",
    "    header = list(grid[1])\n",
    "    # Datos desde la tercera fila\n",
    "    data_rows = grid[2:]\n",
    "\n",
    "    # Normaliza ancho de cada fila al número de columnas\n",
    "    n_cols = len(header)\n",
    "    def normalize_len(row: List[str]) -> List[str]:\n",
    "        row = list(row)\n",
    "        if len(row) < n_cols:\n",
    "            row += [\"\"] * (n_cols - len(row))\n",
    "        elif len(row) > n_cols:\n",
    "            row = row[:n_cols]\n",
    "        return row\n",
    "\n",
    "    data_rows = [normalize_len(r) for r in data_rows]\n",
    "\n",
    "    # Construye DataFrame\n",
    "    df = pd.DataFrame(data_rows, columns=header)\n",
    "    df=clean_df(df)\n",
    "    return df\n"
   ],
   "id": "82b13a79a2e8590a",
   "outputs": [],
   "execution_count": 68
  },
  {
   "metadata": {},
   "cell_type": "markdown",
   "source": "## Pipeline",
   "id": "cf1393f471f88028"
  },
  {
   "metadata": {
    "ExecuteTime": {
     "end_time": "2025-10-02T17:36:23.586094Z",
     "start_time": "2025-10-02T17:36:23.581953Z"
    }
   },
   "cell_type": "code",
   "source": [
    "from pandas import  DataFrame\n",
    "def pipeline(file_key:str)->str | None:\n",
    "    job_id:str | None=start_analysis(file_key)\n",
    "    if job_id is None:\n",
    "        return None\n",
    "    results_from_analysis:list[GetDocumentAnalysisResponseTypeDef]=get_analysis_result(job_id=job_id)\n",
    "    pages, blocks = _group_by_page(results_from_analysis)\n",
    "    letter_block:BlockTypeDef=get_letter_block(blocks)\n",
    "    date_block:BlockTypeDef | None=get_date_by_letter_position(letter_block, blocks)\n",
    "    #print(date_block)\n",
    "    promotor_block=get_promotor_by_query_result(blocks)\n",
    "    #Obtenemos el valor del promotor y la fecha de la carta\n",
    "    promotor_text, start_date_text = get_text_for_promotor_and_date(promotor_block, date_block)\n",
    "    # Obtenemos todas las tablas existentes\n",
    "    tables = build_tables_from_textract(blocks, broadcast_spans=False)\n",
    "    # Filtramos todas las tablas que contengan en alguna celda la palabra ADENDA ACTUAL\n",
    "    #print(\"tablas\",tables)\n",
    "    tables_filtered=get_table_with_adenda(tables, blocks)\n",
    "    #rebuild_in_pandas(tables_filtered)\n",
    "    df:DataFrame=df_from_grid_with_two_header_rows(tables_filtered[0] if len(tables_filtered) else {})\n",
    "    df=transform_df(df)\n",
    "    df=clean_currency_columns(df, [\"monto desembolsado\", \"monto reducido\",\"importe\"])\n",
    "    print(\"documento\",file_key)\n",
    "    print(\"promotor\", promotor_text,start_date_text)\n",
    "    display(df)\n",
    "\n",
    "    #print(\"tables\", tables)\n",
    "\n",
    "    #rebuild_in_pandas(tables_filtered)\n",
    "\n",
    "\n",
    "\n",
    "\n",
    "    return \"\"\n"
   ],
   "id": "fdfe6f0f4bbc61e1",
   "outputs": [],
   "execution_count": 88
  },
  {
   "metadata": {},
   "cell_type": "markdown",
   "source": "## Obtenemos el nombre de archivo para comparar",
   "id": "4d5e7bb1898d072e"
  },
  {
   "metadata": {
    "ExecuteTime": {
     "end_time": "2025-10-02T04:52:24.944167Z",
     "start_time": "2025-10-02T04:52:24.258041Z"
    }
   },
   "cell_type": "code",
   "source": [
    "documents:list[str]=get_files(bucket_name=app_settings.s3_settings.bucket,prefix_path=prefix,document_type=\"pdf\", position=2)\n",
    "print(\"documents:\",documents)"
   ],
   "id": "37e235e6dc8f8650",
   "outputs": [
    {
     "name": "stdout",
     "output_type": "stream",
     "text": [
      "documents: ['cartas_fmv/107134101000916831_1.pdf']\n"
     ]
    }
   ],
   "execution_count": 112
  },
  {
   "metadata": {},
   "cell_type": "markdown",
   "source": "# Ejecución de la extracción insegura",
   "id": "57d1f221b1311936"
  },
  {
   "metadata": {
    "ExecuteTime": {
     "end_time": "2025-10-02T17:36:35.423007Z",
     "start_time": "2025-10-02T17:36:27.203002Z"
    }
   },
   "cell_type": "code",
   "source": [
    "documents:list[str]=get_files(bucket_name=app_settings.s3_settings.bucket,prefix_path=prefix,document_type=\"pdf\",\n",
    "                              position=None)\n",
    "for document in documents:\n",
    "    pipeline(document)"
   ],
   "id": "c48af62adf073fcf",
   "outputs": [
    {
     "name": "stdout",
     "output_type": "stream",
     "text": [
      "Job status: IN_PROGRESS\n"
     ]
    },
    {
     "ename": "KeyboardInterrupt",
     "evalue": "",
     "output_type": "error",
     "traceback": [
      "\u001B[31m---------------------------------------------------------------------------\u001B[39m",
      "\u001B[31mKeyboardInterrupt\u001B[39m                         Traceback (most recent call last)",
      "\u001B[36mCell\u001B[39m\u001B[36m \u001B[39m\u001B[32mIn[89]\u001B[39m\u001B[32m, line 4\u001B[39m\n\u001B[32m      1\u001B[39m documents:\u001B[38;5;28mlist\u001B[39m[\u001B[38;5;28mstr\u001B[39m]=get_files(bucket_name=app_settings.s3_settings.bucket,prefix_path=prefix,document_type=\u001B[33m\"\u001B[39m\u001B[33mpdf\u001B[39m\u001B[33m\"\u001B[39m,\n\u001B[32m      2\u001B[39m                               position=\u001B[38;5;28;01mNone\u001B[39;00m)\n\u001B[32m      3\u001B[39m \u001B[38;5;28;01mfor\u001B[39;00m document \u001B[38;5;129;01min\u001B[39;00m documents:\n\u001B[32m----> \u001B[39m\u001B[32m4\u001B[39m     \u001B[43mpipeline\u001B[49m\u001B[43m(\u001B[49m\u001B[43mdocument\u001B[49m\u001B[43m)\u001B[49m\n",
      "\u001B[36mCell\u001B[39m\u001B[36m \u001B[39m\u001B[32mIn[88]\u001B[39m\u001B[32m, line 6\u001B[39m, in \u001B[36mpipeline\u001B[39m\u001B[34m(file_key)\u001B[39m\n\u001B[32m      4\u001B[39m \u001B[38;5;28;01mif\u001B[39;00m job_id \u001B[38;5;129;01mis\u001B[39;00m \u001B[38;5;28;01mNone\u001B[39;00m:\n\u001B[32m      5\u001B[39m     \u001B[38;5;28;01mreturn\u001B[39;00m \u001B[38;5;28;01mNone\u001B[39;00m\n\u001B[32m----> \u001B[39m\u001B[32m6\u001B[39m results_from_analysis:\u001B[38;5;28mlist\u001B[39m[GetDocumentAnalysisResponseTypeDef]=\u001B[43mget_analysis_result\u001B[49m\u001B[43m(\u001B[49m\u001B[43mjob_id\u001B[49m\u001B[43m=\u001B[49m\u001B[43mjob_id\u001B[49m\u001B[43m)\u001B[49m\n\u001B[32m      7\u001B[39m pages, blocks = _group_by_page(results_from_analysis)\n\u001B[32m      8\u001B[39m letter_block:BlockTypeDef=get_letter_block(blocks)\n",
      "\u001B[36mCell\u001B[39m\u001B[36m \u001B[39m\u001B[32mIn[7]\u001B[39m\u001B[32m, line 11\u001B[39m, in \u001B[36mget_analysis_result\u001B[39m\u001B[34m(job_id)\u001B[39m\n\u001B[32m      9\u001B[39m \u001B[38;5;28mprint\u001B[39m(\u001B[33mf\u001B[39m\u001B[33m\"\u001B[39m\u001B[33mJob status: \u001B[39m\u001B[38;5;132;01m{\u001B[39;00mstatus\u001B[38;5;132;01m}\u001B[39;00m\u001B[33m\"\u001B[39m)\n\u001B[32m     10\u001B[39m \u001B[38;5;28;01mwhile\u001B[39;00m status==\u001B[33m\"\u001B[39m\u001B[33mIN_PROGRESS\u001B[39m\u001B[33m\"\u001B[39m:\n\u001B[32m---> \u001B[39m\u001B[32m11\u001B[39m     \u001B[43mtime\u001B[49m\u001B[43m.\u001B[49m\u001B[43msleep\u001B[49m\u001B[43m(\u001B[49m\u001B[32;43m5\u001B[39;49m\u001B[43m)\u001B[49m\n\u001B[32m     12\u001B[39m     response=textract.get_document_analysis(JobId=job_id)\n\u001B[32m     13\u001B[39m     status: JobStatusType = response.get(\u001B[33m\"\u001B[39m\u001B[33mJobStatus\u001B[39m\u001B[33m\"\u001B[39m,\u001B[38;5;28;01mNone\u001B[39;00m)\n",
      "\u001B[31mKeyboardInterrupt\u001B[39m: "
     ]
    }
   ],
   "execution_count": 89
  },
  {
   "metadata": {},
   "cell_type": "markdown",
   "source": "# Ejecución de la extracción segura",
   "id": "c808b5082ca2d3bf"
  },
  {
   "metadata": {
    "ExecuteTime": {
     "end_time": "2025-10-02T17:38:27.560538Z",
     "start_time": "2025-10-02T17:36:38.411629Z"
    }
   },
   "cell_type": "code",
   "source": [
    "\n",
    "documents:list[str]=get_files(bucket_name=app_settings.s3_settings.bucket,prefix_path=prefix,document_type=\"pdf\",\n",
    "                              position=None)\n",
    "documents_unprocessed:list[str]=[]\n",
    "\n",
    "for document in documents:\n",
    "    try:\n",
    "        pipeline(document)\n",
    "    except Exception as e:\n",
    "        print(e)\n",
    "        documents_unprocessed.append(document)\n",
    "\n",
    "print(\"documentos no procesados\",documents_unprocessed)\n",
    "tasa_exito=((len(documents)-len(documents_unprocessed))/(len(documents) if len(documents)>0 else 1))*100\n",
    "print(\"tasa de exito\",tasa_exito)"
   ],
   "id": "63db4e61ef152095",
   "outputs": [
    {
     "name": "stdout",
     "output_type": "stream",
     "text": [
      "Job status: IN_PROGRESS\n",
      "Job status: IN_PROGRESS\n",
      "Job status: IN_PROGRESS\n",
      "Job status: SUCCEEDED\n",
      "documento cartas_fmv/107002101017693540_1.pdf\n",
      "promotor INMOBILIARIA MALYVET SAC San Isidro, 15 de mayo del 2023.\n"
     ]
    },
    {
     "data": {
      "text/plain": [
       "   monto desembolsado  monto reducido   importe\n",
       "0            257910.0         70480.0  187430.0"
      ],
      "text/html": [
       "<div>\n",
       "<style scoped>\n",
       "    .dataframe tbody tr th:only-of-type {\n",
       "        vertical-align: middle;\n",
       "    }\n",
       "\n",
       "    .dataframe tbody tr th {\n",
       "        vertical-align: top;\n",
       "    }\n",
       "\n",
       "    .dataframe thead th {\n",
       "        text-align: right;\n",
       "    }\n",
       "</style>\n",
       "<table border=\"1\" class=\"dataframe\">\n",
       "  <thead>\n",
       "    <tr style=\"text-align: right;\">\n",
       "      <th></th>\n",
       "      <th>monto desembolsado</th>\n",
       "      <th>monto reducido</th>\n",
       "      <th>importe</th>\n",
       "    </tr>\n",
       "  </thead>\n",
       "  <tbody>\n",
       "    <tr>\n",
       "      <th>0</th>\n",
       "      <td>257910.0</td>\n",
       "      <td>70480.0</td>\n",
       "      <td>187430.0</td>\n",
       "    </tr>\n",
       "  </tbody>\n",
       "</table>\n",
       "</div>"
      ]
     },
     "metadata": {},
     "output_type": "display_data",
     "jetTransient": {
      "display_id": null
     }
    },
    {
     "name": "stdout",
     "output_type": "stream",
     "text": [
      "Job status: IN_PROGRESS\n",
      "Job status: IN_PROGRESS\n",
      "Job status: SUCCEEDED\n",
      "documento cartas_fmv/107125101001461297.pdf\n",
      "promotor INMOBILIUM GRUPO INMOBILIARIO San Isidro, 30 de Marzo del 2023.\n"
     ]
    },
    {
     "data": {
      "text/plain": [
       "   monto desembolsado  monto reducido    importe\n",
       "0           1614400.0        109350.0  1505050.0"
      ],
      "text/html": [
       "<div>\n",
       "<style scoped>\n",
       "    .dataframe tbody tr th:only-of-type {\n",
       "        vertical-align: middle;\n",
       "    }\n",
       "\n",
       "    .dataframe tbody tr th {\n",
       "        vertical-align: top;\n",
       "    }\n",
       "\n",
       "    .dataframe thead th {\n",
       "        text-align: right;\n",
       "    }\n",
       "</style>\n",
       "<table border=\"1\" class=\"dataframe\">\n",
       "  <thead>\n",
       "    <tr style=\"text-align: right;\">\n",
       "      <th></th>\n",
       "      <th>monto desembolsado</th>\n",
       "      <th>monto reducido</th>\n",
       "      <th>importe</th>\n",
       "    </tr>\n",
       "  </thead>\n",
       "  <tbody>\n",
       "    <tr>\n",
       "      <th>0</th>\n",
       "      <td>1614400.0</td>\n",
       "      <td>109350.0</td>\n",
       "      <td>1505050.0</td>\n",
       "    </tr>\n",
       "  </tbody>\n",
       "</table>\n",
       "</div>"
      ]
     },
     "metadata": {},
     "output_type": "display_data",
     "jetTransient": {
      "display_id": null
     }
    },
    {
     "name": "stdout",
     "output_type": "stream",
     "text": [
      "Job status: IN_PROGRESS\n",
      "Job status: SUCCEEDED\n",
      "Se necesitan al menos 2 filas (header y datos)\n",
      "Job status: IN_PROGRESS\n",
      "Job status: SUCCEEDED\n",
      "documento cartas_fmv/107147101000648625_1.pdf\n",
      "promotor ENITH SOFIA VIGO DIAZ San Isidro, 26 de Abril de 2023\n"
     ]
    },
    {
     "data": {
      "text/plain": [
       "   monto desembolsado  monto reducido    importe\n",
       "0           9006409.5       3263567.5  5742842.0"
      ],
      "text/html": [
       "<div>\n",
       "<style scoped>\n",
       "    .dataframe tbody tr th:only-of-type {\n",
       "        vertical-align: middle;\n",
       "    }\n",
       "\n",
       "    .dataframe tbody tr th {\n",
       "        vertical-align: top;\n",
       "    }\n",
       "\n",
       "    .dataframe thead th {\n",
       "        text-align: right;\n",
       "    }\n",
       "</style>\n",
       "<table border=\"1\" class=\"dataframe\">\n",
       "  <thead>\n",
       "    <tr style=\"text-align: right;\">\n",
       "      <th></th>\n",
       "      <th>monto desembolsado</th>\n",
       "      <th>monto reducido</th>\n",
       "      <th>importe</th>\n",
       "    </tr>\n",
       "  </thead>\n",
       "  <tbody>\n",
       "    <tr>\n",
       "      <th>0</th>\n",
       "      <td>9006409.5</td>\n",
       "      <td>3263567.5</td>\n",
       "      <td>5742842.0</td>\n",
       "    </tr>\n",
       "  </tbody>\n",
       "</table>\n",
       "</div>"
      ]
     },
     "metadata": {},
     "output_type": "display_data",
     "jetTransient": {
      "display_id": null
     }
    },
    {
     "name": "stdout",
     "output_type": "stream",
     "text": [
      "Job status: IN_PROGRESS\n",
      "Job status: IN_PROGRESS\n",
      "Job status: SUCCEEDED\n",
      "documento cartas_fmv/107147101000838713_1.pdf\n",
      "promotor LOS PORTALES S.A. San Isidro, 24 de Abril del 2023.\n"
     ]
    },
    {
     "data": {
      "text/plain": [
       "   monto desembolsado  monto reducido    importe\n",
       "0           5779764.7        254246.7  5525518.0\n",
       "1           5779764.7        254246.7  5525518.0"
      ],
      "text/html": [
       "<div>\n",
       "<style scoped>\n",
       "    .dataframe tbody tr th:only-of-type {\n",
       "        vertical-align: middle;\n",
       "    }\n",
       "\n",
       "    .dataframe tbody tr th {\n",
       "        vertical-align: top;\n",
       "    }\n",
       "\n",
       "    .dataframe thead th {\n",
       "        text-align: right;\n",
       "    }\n",
       "</style>\n",
       "<table border=\"1\" class=\"dataframe\">\n",
       "  <thead>\n",
       "    <tr style=\"text-align: right;\">\n",
       "      <th></th>\n",
       "      <th>monto desembolsado</th>\n",
       "      <th>monto reducido</th>\n",
       "      <th>importe</th>\n",
       "    </tr>\n",
       "  </thead>\n",
       "  <tbody>\n",
       "    <tr>\n",
       "      <th>0</th>\n",
       "      <td>5779764.7</td>\n",
       "      <td>254246.7</td>\n",
       "      <td>5525518.0</td>\n",
       "    </tr>\n",
       "    <tr>\n",
       "      <th>1</th>\n",
       "      <td>5779764.7</td>\n",
       "      <td>254246.7</td>\n",
       "      <td>5525518.0</td>\n",
       "    </tr>\n",
       "  </tbody>\n",
       "</table>\n",
       "</div>"
      ]
     },
     "metadata": {},
     "output_type": "display_data",
     "jetTransient": {
      "display_id": null
     }
    },
    {
     "name": "stdout",
     "output_type": "stream",
     "text": [
      "Job status: IN_PROGRESS\n",
      "Job status: SUCCEEDED\n",
      "documento cartas_fmv/107147101000838713_2.pdf\n",
      "promotor LOS PORTALES S.A. San Isidro, 24 de Abril del 2023.\n"
     ]
    },
    {
     "data": {
      "text/plain": [
       "   monto desembolsado  monto reducido    importe\n",
       "0           5525518.0         89100.0  5436418.0\n",
       "1           5525518.0         89100.0  5436418.0"
      ],
      "text/html": [
       "<div>\n",
       "<style scoped>\n",
       "    .dataframe tbody tr th:only-of-type {\n",
       "        vertical-align: middle;\n",
       "    }\n",
       "\n",
       "    .dataframe tbody tr th {\n",
       "        vertical-align: top;\n",
       "    }\n",
       "\n",
       "    .dataframe thead th {\n",
       "        text-align: right;\n",
       "    }\n",
       "</style>\n",
       "<table border=\"1\" class=\"dataframe\">\n",
       "  <thead>\n",
       "    <tr style=\"text-align: right;\">\n",
       "      <th></th>\n",
       "      <th>monto desembolsado</th>\n",
       "      <th>monto reducido</th>\n",
       "      <th>importe</th>\n",
       "    </tr>\n",
       "  </thead>\n",
       "  <tbody>\n",
       "    <tr>\n",
       "      <th>0</th>\n",
       "      <td>5525518.0</td>\n",
       "      <td>89100.0</td>\n",
       "      <td>5436418.0</td>\n",
       "    </tr>\n",
       "    <tr>\n",
       "      <th>1</th>\n",
       "      <td>5525518.0</td>\n",
       "      <td>89100.0</td>\n",
       "      <td>5436418.0</td>\n",
       "    </tr>\n",
       "  </tbody>\n",
       "</table>\n",
       "</div>"
      ]
     },
     "metadata": {},
     "output_type": "display_data",
     "jetTransient": {
      "display_id": null
     }
    },
    {
     "name": "stdout",
     "output_type": "stream",
     "text": [
      "Job status: IN_PROGRESS\n",
      "Job status: IN_PROGRESS\n",
      "Job status: SUCCEEDED\n",
      "documento cartas_fmv/107147101000841781_1.pdf\n",
      "promotor CRISTHIAN DONNY SALCEDO ROJAS San Isidro, 29 de Mayo del 2023\n"
     ]
    },
    {
     "data": {
      "text/plain": [
       "   monto desembolsado  monto reducido   importe\n",
       "0            386980.0        168080.0  218900.0\n",
       "1            386980.0        168080.0  218900.0"
      ],
      "text/html": [
       "<div>\n",
       "<style scoped>\n",
       "    .dataframe tbody tr th:only-of-type {\n",
       "        vertical-align: middle;\n",
       "    }\n",
       "\n",
       "    .dataframe tbody tr th {\n",
       "        vertical-align: top;\n",
       "    }\n",
       "\n",
       "    .dataframe thead th {\n",
       "        text-align: right;\n",
       "    }\n",
       "</style>\n",
       "<table border=\"1\" class=\"dataframe\">\n",
       "  <thead>\n",
       "    <tr style=\"text-align: right;\">\n",
       "      <th></th>\n",
       "      <th>monto desembolsado</th>\n",
       "      <th>monto reducido</th>\n",
       "      <th>importe</th>\n",
       "    </tr>\n",
       "  </thead>\n",
       "  <tbody>\n",
       "    <tr>\n",
       "      <th>0</th>\n",
       "      <td>386980.0</td>\n",
       "      <td>168080.0</td>\n",
       "      <td>218900.0</td>\n",
       "    </tr>\n",
       "    <tr>\n",
       "      <th>1</th>\n",
       "      <td>386980.0</td>\n",
       "      <td>168080.0</td>\n",
       "      <td>218900.0</td>\n",
       "    </tr>\n",
       "  </tbody>\n",
       "</table>\n",
       "</div>"
      ]
     },
     "metadata": {},
     "output_type": "display_data",
     "jetTransient": {
      "display_id": null
     }
    },
    {
     "name": "stdout",
     "output_type": "stream",
     "text": [
      "Job status: IN_PROGRESS\n",
      "Job status: IN_PROGRESS\n",
      "Job status: SUCCEEDED\n",
      "documento cartas_fmv/107147101000851803_1.pdf\n",
      "promotor CONSTRUCTORA JARDINES DE JUANJUI SAC San Isidro, 11 de Mayo del 2023\n"
     ]
    },
    {
     "data": {
      "text/plain": [
       "   monto desembolsado  monto reducido     importe\n",
       "0          1715685.21       560720.99  1154964.22"
      ],
      "text/html": [
       "<div>\n",
       "<style scoped>\n",
       "    .dataframe tbody tr th:only-of-type {\n",
       "        vertical-align: middle;\n",
       "    }\n",
       "\n",
       "    .dataframe tbody tr th {\n",
       "        vertical-align: top;\n",
       "    }\n",
       "\n",
       "    .dataframe thead th {\n",
       "        text-align: right;\n",
       "    }\n",
       "</style>\n",
       "<table border=\"1\" class=\"dataframe\">\n",
       "  <thead>\n",
       "    <tr style=\"text-align: right;\">\n",
       "      <th></th>\n",
       "      <th>monto desembolsado</th>\n",
       "      <th>monto reducido</th>\n",
       "      <th>importe</th>\n",
       "    </tr>\n",
       "  </thead>\n",
       "  <tbody>\n",
       "    <tr>\n",
       "      <th>0</th>\n",
       "      <td>1715685.21</td>\n",
       "      <td>560720.99</td>\n",
       "      <td>1154964.22</td>\n",
       "    </tr>\n",
       "  </tbody>\n",
       "</table>\n",
       "</div>"
      ]
     },
     "metadata": {},
     "output_type": "display_data",
     "jetTransient": {
      "display_id": null
     }
    },
    {
     "name": "stdout",
     "output_type": "stream",
     "text": [
      "Job status: IN_PROGRESS\n",
      "Job status: SUCCEEDED\n",
      "documento cartas_fmv/107147101000851803_2.pdf\n",
      "promotor CONSTRUCTORA JARDINES DE JUANJUI SAC San Isidro, 25 de Mayo del 2023\n"
     ]
    },
    {
     "data": {
      "text/plain": [
       "   monto desembolsado  monto reducido     importe\n",
       "0          1154964.22        22416.19  1132548.03\n",
       "1          1154964.22        22416.19  1132548.03"
      ],
      "text/html": [
       "<div>\n",
       "<style scoped>\n",
       "    .dataframe tbody tr th:only-of-type {\n",
       "        vertical-align: middle;\n",
       "    }\n",
       "\n",
       "    .dataframe tbody tr th {\n",
       "        vertical-align: top;\n",
       "    }\n",
       "\n",
       "    .dataframe thead th {\n",
       "        text-align: right;\n",
       "    }\n",
       "</style>\n",
       "<table border=\"1\" class=\"dataframe\">\n",
       "  <thead>\n",
       "    <tr style=\"text-align: right;\">\n",
       "      <th></th>\n",
       "      <th>monto desembolsado</th>\n",
       "      <th>monto reducido</th>\n",
       "      <th>importe</th>\n",
       "    </tr>\n",
       "  </thead>\n",
       "  <tbody>\n",
       "    <tr>\n",
       "      <th>0</th>\n",
       "      <td>1154964.22</td>\n",
       "      <td>22416.19</td>\n",
       "      <td>1132548.03</td>\n",
       "    </tr>\n",
       "    <tr>\n",
       "      <th>1</th>\n",
       "      <td>1154964.22</td>\n",
       "      <td>22416.19</td>\n",
       "      <td>1132548.03</td>\n",
       "    </tr>\n",
       "  </tbody>\n",
       "</table>\n",
       "</div>"
      ]
     },
     "metadata": {},
     "output_type": "display_data",
     "jetTransient": {
      "display_id": null
     }
    },
    {
     "name": "stdout",
     "output_type": "stream",
     "text": [
      "Job status: IN_PROGRESS\n",
      "Job status: IN_PROGRESS\n",
      "Job status: SUCCEEDED\n",
      "documento cartas_fmv/107147101000858331_1.pdf\n",
      "promotor HOGARIAN S.A.C el Distrito de San Pedro de Lloc, Provincia de Pacasmayo y Departamento de La Libertad, conforme\n"
     ]
    },
    {
     "data": {
      "text/plain": [
       "   monto desembolsado  monto reducido   importe\n",
       "0           5795025.0         68512.5  726512.5\n",
       "1            893530.0        173250.0  720280.0\n",
       "2            381150.0        311850.0   69300.0"
      ],
      "text/html": [
       "<div>\n",
       "<style scoped>\n",
       "    .dataframe tbody tr th:only-of-type {\n",
       "        vertical-align: middle;\n",
       "    }\n",
       "\n",
       "    .dataframe tbody tr th {\n",
       "        vertical-align: top;\n",
       "    }\n",
       "\n",
       "    .dataframe thead th {\n",
       "        text-align: right;\n",
       "    }\n",
       "</style>\n",
       "<table border=\"1\" class=\"dataframe\">\n",
       "  <thead>\n",
       "    <tr style=\"text-align: right;\">\n",
       "      <th></th>\n",
       "      <th>monto desembolsado</th>\n",
       "      <th>monto reducido</th>\n",
       "      <th>importe</th>\n",
       "    </tr>\n",
       "  </thead>\n",
       "  <tbody>\n",
       "    <tr>\n",
       "      <th>0</th>\n",
       "      <td>5795025.0</td>\n",
       "      <td>68512.5</td>\n",
       "      <td>726512.5</td>\n",
       "    </tr>\n",
       "    <tr>\n",
       "      <th>1</th>\n",
       "      <td>893530.0</td>\n",
       "      <td>173250.0</td>\n",
       "      <td>720280.0</td>\n",
       "    </tr>\n",
       "    <tr>\n",
       "      <th>2</th>\n",
       "      <td>381150.0</td>\n",
       "      <td>311850.0</td>\n",
       "      <td>69300.0</td>\n",
       "    </tr>\n",
       "  </tbody>\n",
       "</table>\n",
       "</div>"
      ]
     },
     "metadata": {},
     "output_type": "display_data",
     "jetTransient": {
      "display_id": null
     }
    },
    {
     "name": "stdout",
     "output_type": "stream",
     "text": [
      "documentos no procesados ['cartas_fmv/107134101000916831_1.pdf']\n",
      "tasa de exito 90.0\n"
     ]
    }
   ],
   "execution_count": 90
  }
 ],
 "metadata": {
  "kernelspec": {
   "display_name": "Python 3",
   "language": "python",
   "name": "python3"
  },
  "language_info": {
   "codemirror_mode": {
    "name": "ipython",
    "version": 2
   },
   "file_extension": ".py",
   "mimetype": "text/x-python",
   "name": "python",
   "nbconvert_exporter": "python",
   "pygments_lexer": "ipython2",
   "version": "2.7.6"
  }
 },
 "nbformat": 4,
 "nbformat_minor": 5
}
