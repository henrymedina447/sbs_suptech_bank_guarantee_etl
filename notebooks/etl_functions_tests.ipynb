{
 "cells": [
  {
   "cell_type": "code",
   "id": "initial_id",
   "metadata": {
    "collapsed": true,
    "ExecuteTime": {
     "end_time": "2025-10-05T18:21:03.918988Z",
     "start_time": "2025-10-05T18:21:03.915166Z"
    }
   },
   "source": [
    "import re\n",
    "from datetime import datetime\n",
    "\n",
    "_MONTHS_ES = {\n",
    "    \"ene\": 1, \"enero\": 1,\n",
    "    \"feb\": 2, \"febrero\": 2,\n",
    "    \"mar\": 3, \"marzo\": 3,\n",
    "    \"abr\": 4, \"abril\": 4,\n",
    "    \"may\": 5, \"mayo\": 5,\n",
    "    \"jun\": 6, \"junio\": 6,\n",
    "    \"jul\": 7, \"julio\": 7,\n",
    "    \"ago\": 8, \"agosto\": 8,\n",
    "    # septiembre tiene variantes en ES/LA\n",
    "    \"sep\": 9, \"sept\": 9, \"septiembre\": 9, \"set\": 9, \"setiembre\": 9,\n",
    "    \"oct\": 10, \"octubre\": 10,\n",
    "    \"nov\": 11, \"noviembre\": 11,\n",
    "    \"dic\": 12, \"diciembre\": 12,\n",
    "}\n",
    "\n",
    "# día (1 o 2 dígitos) + opcional \"de\" + mes (abr./completo) + opcional \"de\" + año (4 dígitos)\n",
    "# admite puntos en abreviaturas (ej. \"sept.\"), espacios múltiples, y texto alrededor.\n",
    "_DATE_RE = re.compile(\n",
    "    r\"(?P<d>\\d{1,2})\\s*(?:de\\s+)?\"\n",
    "    r\"(?P<m>ene(?:ro)?|feb(?:rero)?|mar(?:zo)?|abr(?:il)?|may(?:o)?|jun(?:io)?|jul(?:io)?|ago(?:sto)?|\"\n",
    "    r\"sept(?:iembre)?|sep|set(?:iembre)?|oct(?:ubre)?|nov(?:iembre)?|dic(?:iembre)?)\\.?\\s*\"\n",
    "    r\"(?:de\\s+)?(?P<y>\\d{4})\",\n",
    "    flags=re.IGNORECASE\n",
    ")"
   ],
   "outputs": [],
   "execution_count": 6
  },
  {
   "metadata": {
    "ExecuteTime": {
     "end_time": "2025-10-05T18:23:56.635482Z",
     "start_time": "2025-10-05T18:23:56.629462Z"
    }
   },
   "cell_type": "code",
   "source": [
    "import re\n",
    "from datetime import datetime\n",
    "\n",
    "_MONTHS_ES = {\n",
    "    \"ene\": 1, \"enero\": 1,\n",
    "    \"feb\": 2, \"febrero\": 2,\n",
    "    \"mar\": 3, \"marzo\": 3,\n",
    "    \"abr\": 4, \"abril\": 4,\n",
    "    \"may\": 5, \"mayo\": 5,\n",
    "    \"jun\": 6, \"junio\": 6,\n",
    "    \"jul\": 7, \"julio\": 7,\n",
    "    \"ago\": 8, \"agosto\": 8,\n",
    "    # septiembre tiene variantes en ES/LA\n",
    "    \"sep\": 9, \"sept\": 9, \"septiembre\": 9, \"set\": 9, \"setiembre\": 9,\n",
    "    \"oct\": 10, \"octubre\": 10,\n",
    "    \"nov\": 11, \"noviembre\": 11,\n",
    "    \"dic\": 12, \"diciembre\": 12,\n",
    "}\n",
    "\n",
    "# día (1 o 2 dígitos) + opcional \"de\" + mes (abr./completo) + opcional \"de\" + año (4 dígitos)\n",
    "# admite puntos en abreviaturas (ej. \"sept.\"), espacios múltiples, y texto alrededor.\n",
    "_DATE_RE = re.compile(\n",
    "    r\"(?P<d>\\d{1,2})\\s*(?:(?:de|del)\\s+)?\"\n",
    "    r\"(?P<m>ene(?:ro)?|feb(?:rero)?|mar(?:zo)?|abr(?:il)?|may(?:o)?|jun(?:io)?|jul(?:io)?|ago(?:sto)?|\"\n",
    "    r\"sept(?:iembre)?|sep|set(?:iembre)?|oct(?:ubre)?|nov(?:iembre)?|dic(?:iembre)?)\\.?\\s*\"\n",
    "    r\"(?:(?:de|del)\\s+)?(?P<y>\\d{4})\",\n",
    "    flags=re.IGNORECASE\n",
    ")\n",
    "\n",
    "def extract_spanish_date_ddmmyyyy(text: str) -> str | None:\n",
    "    \"\"\"\n",
    "    Extrae la primera fecha en español tipo '30 de mayo de 2025' de un texto\n",
    "    y la devuelve como '30/05/2025'. Si no encuentra una válida, retorna None.\n",
    "    \"\"\"\n",
    "    match = _DATE_RE.search(text)\n",
    "    if not match:\n",
    "        return None\n",
    "\n",
    "    day = int(match.group(\"d\"))\n",
    "    month_key = match.group(\"m\").lower().rstrip(\".\")\n",
    "    # normaliza 'sept' y similares a claves del diccionario\n",
    "    if month_key not in _MONTHS_ES:\n",
    "        # Por si llegara algo raro tipo 'set.' o 'sept.'\n",
    "        month_key = month_key.rstrip(\".\")\n",
    "    month = _MONTHS_ES.get(month_key)\n",
    "    year = int(match.group(\"y\"))\n",
    "    if not month:\n",
    "        return None\n",
    "\n",
    "    # valida la fecha (ej. 31/02 no pasa)\n",
    "    try:\n",
    "        dt = datetime(year, month, day)\n",
    "    except ValueError:\n",
    "        return None\n",
    "\n",
    "    return dt.strftime(\"%d/%m/%Y\")\n",
    "\n",
    "# --- Ejemplos de uso ---\n",
    "examples = [\n",
    "    \"San Isidro, 15 de mayo del 2023.\",\n",
    "    \"San Isidrio 30 de mayo de 2025\",\n",
    "    \"Contrato firmado el 1 de ene. de 2024 en Lima\",\n",
    "    \"Vence: 7 setiembre 2023\",\n",
    "    \"Pago: 15   dic  2022\",\n",
    "    \"Reunión 31/02/2024 (texto confuso) y 28 de febrero de 2024\",  # solo tomará la válida en formato español\n",
    "]\n",
    "\n",
    "for s in examples:\n",
    "    print(s, \"->\", extract_spanish_date_ddmmyyyy(s))\n"
   ],
   "id": "79c933ea72ac9c1",
   "outputs": [
    {
     "name": "stdout",
     "output_type": "stream",
     "text": [
      "San Isidro, 15 de mayo del 2023. -> 15/05/2023\n",
      "San Isidrio 30 de mayo de 2025 -> 30/05/2025\n",
      "Contrato firmado el 1 de ene. de 2024 en Lima -> 01/01/2024\n",
      "Vence: 7 setiembre 2023 -> 07/09/2023\n",
      "Pago: 15   dic  2022 -> 15/12/2022\n",
      "Reunión 31/02/2024 (texto confuso) y 28 de febrero de 2024 -> 28/02/2024\n"
     ]
    }
   ],
   "execution_count": 9
  },
  {
   "metadata": {
    "ExecuteTime": {
     "end_time": "2025-10-05T17:41:00.766422Z",
     "start_time": "2025-10-05T17:40:55.738911Z"
    }
   },
   "cell_type": "code",
   "source": [
    "import pandas as pd\n",
    "\n",
    "df = pd.DataFrame([\n",
    "    {\"disbursed_amount\": 1000.5, \"reduced_amount\": 200.0, \"amount\": 800.5},\n",
    "    {\"disbursed_amount\": 500.0, \"reduced_amount\": 0.0, \"amount\": 500.0},\n",
    "])"
   ],
   "id": "eb6d462414f5458e",
   "outputs": [],
   "execution_count": 3
  },
  {
   "metadata": {
    "ExecuteTime": {
     "end_time": "2025-10-05T17:41:07.485873Z",
     "start_time": "2025-10-05T17:41:07.069517Z"
    }
   },
   "cell_type": "code",
   "source": [
    "from pydantic import BaseModel\n",
    "\n",
    "class FinancialRecord(BaseModel):\n",
    "    disbursed_amount: float\n",
    "    reduced_amount: float\n",
    "    amount: float"
   ],
   "id": "d59781c0c571047",
   "outputs": [],
   "execution_count": 4
  },
  {
   "metadata": {
    "ExecuteTime": {
     "end_time": "2025-10-05T17:41:18.556907Z",
     "start_time": "2025-10-05T17:41:18.551150Z"
    }
   },
   "cell_type": "code",
   "source": [
    "if df is None or df.empty:\n",
    "    raise ValueError(\"El DataFrame está vacío\")\n",
    "\n",
    "# Convierte la primera fila a dict\n",
    "first_row = df.iloc[0].to_dict()\n",
    "\n",
    "# Crea el modelo\n",
    "record = FinancialRecord(**first_row)\n",
    "\n",
    "print(record)"
   ],
   "id": "b0022f41e28ebd98",
   "outputs": [
    {
     "name": "stdout",
     "output_type": "stream",
     "text": [
      "disbursed_amount=1000.5 reduced_amount=200.0 amount=800.5\n"
     ]
    }
   ],
   "execution_count": 5
  }
 ],
 "metadata": {
  "kernelspec": {
   "display_name": "Python 3",
   "language": "python",
   "name": "python3"
  },
  "language_info": {
   "codemirror_mode": {
    "name": "ipython",
    "version": 2
   },
   "file_extension": ".py",
   "mimetype": "text/x-python",
   "name": "python",
   "nbconvert_exporter": "python",
   "pygments_lexer": "ipython2",
   "version": "2.7.6"
  }
 },
 "nbformat": 4,
 "nbformat_minor": 5
}
